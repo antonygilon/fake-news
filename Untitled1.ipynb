{
 "cells": [
  {
   "cell_type": "code",
   "execution_count": 11,
   "metadata": {},
   "outputs": [],
   "source": [
    "from selenium import webdriver\n",
    "from bs4 import BeautifulSoup as BeautifulSoup\n",
    "import pandas as pd\n",
    "driver = webdriver.Chrome(\"/home/antony/Downloads/chromedriver_linux64(1)/chromedriver\")\n",
    "products=[] #List to store name of the product\n",
    "prices=[] #List to store price of the product\n",
    "ratings=[] #List to store rating of the product\n",
    "driver.get(\"https://www.flipkart.com/laptops/~buyback-guarantee-on-laptops-/pr?sid=6bo%2Cb5g&uniq\")\n",
    "content = driver.page_source\n",
    "soup = BeautifulSoup(content)\n",
    "for a in soup.findAll('a',href=True, attrs={'class':'_31qSD5'}):\n",
    "    name=a.find('div', attrs={'class':'_3wU53n'})\n",
    "    price=a.find('div', attrs={'class':'_1vC4OE _2rQ-NK'})\n",
    "    rating=a.find('div', attrs={'class':'hGSR34 _2beYZw'})\n",
    "    products.append(name.text)\n",
    "    prices.append(price.text)\n",
    "    #ratings.append(rating.text)\n",
    "df = pd.DataFrame({'Product Name':products,'Price':prices}) \n",
    "df.to_csv('products.csv', index=False, encoding='utf-8')\n",
    "\n"
   ]
  },
  {
   "cell_type": "code",
   "execution_count": 12,
   "metadata": {},
   "outputs": [],
   "source": [
    "xf = pd.read_csv(\"products.csv\")"
   ]
  },
  {
   "cell_type": "code",
   "execution_count": 13,
   "metadata": {},
   "outputs": [
    {
     "data": {
      "text/html": [
       "<div>\n",
       "<style scoped>\n",
       "    .dataframe tbody tr th:only-of-type {\n",
       "        vertical-align: middle;\n",
       "    }\n",
       "\n",
       "    .dataframe tbody tr th {\n",
       "        vertical-align: top;\n",
       "    }\n",
       "\n",
       "    .dataframe thead th {\n",
       "        text-align: right;\n",
       "    }\n",
       "</style>\n",
       "<table border=\"1\" class=\"dataframe\">\n",
       "  <thead>\n",
       "    <tr style=\"text-align: right;\">\n",
       "      <th></th>\n",
       "      <th>Product Name</th>\n",
       "      <th>Price</th>\n",
       "    </tr>\n",
       "  </thead>\n",
       "  <tbody>\n",
       "    <tr>\n",
       "      <td>0</td>\n",
       "      <td>Apple MacBook Air Core i5 5th Gen - (8 GB/128 ...</td>\n",
       "      <td>₹62,990</td>\n",
       "    </tr>\n",
       "    <tr>\n",
       "      <td>1</td>\n",
       "      <td>Lenovo Yoga 510 Core i3 6th Gen - (4 GB/1 TB H...</td>\n",
       "      <td>₹38,490</td>\n",
       "    </tr>\n",
       "    <tr>\n",
       "      <td>2</td>\n",
       "      <td>Lenovo Core i5 7th Gen - (8 GB/2 TB HDD/Window...</td>\n",
       "      <td>₹54,990</td>\n",
       "    </tr>\n",
       "    <tr>\n",
       "      <td>3</td>\n",
       "      <td>Lenovo Core i7 6th Gen - (8 GB/1 TB HDD/DOS/2 ...</td>\n",
       "      <td>₹48,990</td>\n",
       "    </tr>\n",
       "    <tr>\n",
       "      <td>4</td>\n",
       "      <td>Lenovo Ideapad Core i3 6th Gen - (4 GB/1 TB HD...</td>\n",
       "      <td>₹26,990</td>\n",
       "    </tr>\n",
       "    <tr>\n",
       "      <td>5</td>\n",
       "      <td>Lenovo Ideapad Core i5 7th Gen - (8 GB/1 TB HD...</td>\n",
       "      <td>₹45,490</td>\n",
       "    </tr>\n",
       "    <tr>\n",
       "      <td>6</td>\n",
       "      <td>Lenovo Core i5 7th Gen - (8 GB/1 TB HDD/DOS/2 ...</td>\n",
       "      <td>₹42,990</td>\n",
       "    </tr>\n",
       "    <tr>\n",
       "      <td>7</td>\n",
       "      <td>Lenovo Core i3 6th Gen - (4 GB/1 TB HDD/Window...</td>\n",
       "      <td>₹29,999</td>\n",
       "    </tr>\n",
       "  </tbody>\n",
       "</table>\n",
       "</div>"
      ],
      "text/plain": [
       "                                        Product Name    Price\n",
       "0  Apple MacBook Air Core i5 5th Gen - (8 GB/128 ...  ₹62,990\n",
       "1  Lenovo Yoga 510 Core i3 6th Gen - (4 GB/1 TB H...  ₹38,490\n",
       "2  Lenovo Core i5 7th Gen - (8 GB/2 TB HDD/Window...  ₹54,990\n",
       "3  Lenovo Core i7 6th Gen - (8 GB/1 TB HDD/DOS/2 ...  ₹48,990\n",
       "4  Lenovo Ideapad Core i3 6th Gen - (4 GB/1 TB HD...  ₹26,990\n",
       "5  Lenovo Ideapad Core i5 7th Gen - (8 GB/1 TB HD...  ₹45,490\n",
       "6  Lenovo Core i5 7th Gen - (8 GB/1 TB HDD/DOS/2 ...  ₹42,990\n",
       "7  Lenovo Core i3 6th Gen - (4 GB/1 TB HDD/Window...  ₹29,999"
      ]
     },
     "execution_count": 13,
     "metadata": {},
     "output_type": "execute_result"
    }
   ],
   "source": [
    "xf"
   ]
  },
  {
   "cell_type": "code",
   "execution_count": null,
   "metadata": {},
   "outputs": [],
   "source": [
    "\n"
   ]
  },
  {
   "cell_type": "code",
   "execution_count": null,
   "metadata": {},
   "outputs": [],
   "source": []
  }
 ],
 "metadata": {
  "kernelspec": {
   "display_name": "acmenv",
   "language": "python",
   "name": "acmenv"
  },
  "language_info": {
   "codemirror_mode": {
    "name": "ipython",
    "version": 3
   },
   "file_extension": ".py",
   "mimetype": "text/x-python",
   "name": "python",
   "nbconvert_exporter": "python",
   "pygments_lexer": "ipython3",
   "version": "3.6.8"
  }
 },
 "nbformat": 4,
 "nbformat_minor": 2
}
