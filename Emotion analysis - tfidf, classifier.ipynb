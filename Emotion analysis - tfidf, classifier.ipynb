{
 "cells": [
  {
   "cell_type": "code",
   "execution_count": 7,
   "metadata": {},
   "outputs": [],
   "source": [
    "import pandas as pd\n",
    "import nltk\n",
    "from nltk.corpus import stopwords\n",
    "from nltk.tokenize import word_tokenize\n",
    "from nltk.tokenize import word_tokenize\n",
    "from string import punctuation\n",
    "from sklearn.pipeline import Pipeline\n",
    "from sklearn.feature_extraction.text import CountVectorizer, TfidfVectorizer\n",
    "from xgboost import XGBClassifier\n",
    "from sklearn.pipeline import FeatureUnion\n",
    "from sklearn.base import BaseEstimator, TransformerMixin\n",
    "from sklearn import model_selection,preprocessing\n",
    "from sklearn.preprocessing import OneHotEncoder,LabelEncoder,LabelBinarizer\n",
    "from sklearn.svm import SVC\n",
    "from sklearn.linear_model import SGDClassifier\n",
    "from sklearn.linear_model import LogisticRegression\n",
    "from sklearn.feature_selection import SelectKBest\n",
    "from sklearn.feature_selection import chi2 \n",
    "from sklearn.naive_bayes import MultinomialNB\n",
    "from gensim.sklearn_api import D2VTransformer\n",
    "from sklearn.model_selection import cross_val_score\n",
    "import seaborn as sn\n",
    "import matplotlib.pyplot as plt\n",
    "from sklearn.ensemble import RandomForestClassifier\n",
    "from sklearn.model_selection import GridSearchCV\n",
    "from sklearn.naive_bayes import GaussianNB\n",
    "from sklearn.neighbors import NearestNeighbors\n",
    "from sklearn.ensemble import AdaBoostClassifier\n",
    "from scipy import stats\n",
    "from scipy.stats import randint\n",
    "import re\n",
    "from nltk.stem import PorterStemmer\n",
    "from nltk.stem import WordNetLemmatizer \n",
    "from sklearn.linear_model import Perceptron\n",
    "from sklearn.linear_model import RidgeClassifierCV\n",
    "import multiprocessing\n",
    "import gensim\n",
    "from gensim.models.doc2vec import TaggedDocument\n",
    "cores = multiprocessing.cpu_count()\n",
    "from gensim.models import Doc2Vec\n",
    "from tqdm import tqdm\n",
    "from sklearn import utils\n",
    "import numpy as np\n",
    "\n",
    "from lightgbm import LGBMClassifier"
   ]
  },
  {
   "cell_type": "code",
   "execution_count": 10,
   "metadata": {},
   "outputs": [],
   "source": [
    "df = pd.read_csv(\"emotion.data\")\n",
    "#ff = pd.read_csv(\"text_emotion.csv\")"
   ]
  },
  {
   "cell_type": "code",
   "execution_count": 11,
   "metadata": {},
   "outputs": [],
   "source": [
    "df.rename(columns = {'emotions':'label'},inplace = True)"
   ]
  },
  {
   "cell_type": "code",
   "execution_count": 12,
   "metadata": {},
   "outputs": [
    {
     "data": {
      "text/plain": [
       "416809"
      ]
     },
     "execution_count": 12,
     "metadata": {},
     "output_type": "execute_result"
    }
   ],
   "source": [
    "len(df)"
   ]
  },
  {
   "cell_type": "code",
   "execution_count": null,
   "metadata": {},
   "outputs": [],
   "source": [
    "def stem_text(word_list):  #Lemmatize text\n",
    "    new_list = []\n",
    "    for word in word_list:\n",
    "        wl = PorterStemmer()\n",
    "        rootword=wl.stem(word)\n",
    "        new_list.append(rootword)\n",
    "    return new_list\n",
    "\n",
    "\n",
    "def remove_stopwords(row):     #Remove Stopwords from text\n",
    "    tokens = word_tokenize(row)\n",
    "    filtered_word = [word for word in tokens if not word in stop_words]\n",
    "    stemmed_text = stem_text(filtered_word)\n",
    "    return stemmed_text\n",
    "\n",
    "\n",
    "def make_string(row):      #Convert list into string\n",
    "    new = ''\n",
    "    for word in row:\n",
    "        new = new + word\n",
    "        new = new + ' '\n",
    "    return new\n",
    "\n",
    "\n",
    "def clean_text(text):\n",
    "    text = re.sub(r\"[^A-Za-z0-9^,!.\\/'+-=]\", \" \", text)\n",
    "    text = re.sub(r\"what's\", \"what is \", text)\n",
    "    text = re.sub(r\"\\'s\", \" \", text)\n",
    "    text = re.sub(r\"\\'ve\", \" have \", text)\n",
    "    text = re.sub(r\"n't\", \" not \", text)\n",
    "    text = re.sub(r\"i'm\", \"i am \", text)\n",
    "    text = re.sub(r\"\\'re\", \" are \", text)\n",
    "    text = re.sub(r\"\\'d\", \" would \", text)\n",
    "    text = re.sub(r\"\\'ll\", \" will \", text)\n",
    "    text = re.sub(r\",\", \" \", text)\n",
    "    text = re.sub(r\"\\.\", \" \", text)\n",
    "    text = re.sub(r\"!\", \" ! \", text)\n",
    "    text = re.sub(r\"\\/\", \" \", text)\n",
    "    text = re.sub(r\"\\^\", \" ^ \", text)\n",
    "    text = re.sub(r\"\\+\", \" + \", text)\n",
    "    text = re.sub(r\"\\-\", \" - \", text)\n",
    "    text = re.sub(r\"\\=\", \" = \", text)\n",
    "    text = re.sub(r\"'\", \" \", text)\n",
    "    text = re.sub(r\"(\\d+)(k)\", r\"\\g<1>000\", text)\n",
    "    text = re.sub(r\":\", \" : \", text)\n",
    "    text = re.sub(r\" e g \", \" eg \", text)\n",
    "    text = re.sub(r\" b g \", \" bg \", text)\n",
    "    text = re.sub(r\" u s \", \" american \", text)\n",
    "    text = re.sub(r\"\\0s\", \"0\", text)\n",
    "    text = re.sub(r\" 9 11 \", \"911\", text)\n",
    "    text = re.sub(r\"e - mail\", \"email\", text)\n",
    "    text = re.sub(r\"j k\", \"jk\", text)\n",
    "    text = re.sub(r\"\\s{2,}\", \" \", text)\n",
    "    \n",
    "    return text\n",
    "\n",
    "df['statement_clean'] = ''\n",
    "df['statement_clean'] = df['text'].apply(lambda x: x.lower())\n",
    "df['statement_clean'] = df['statement_clean'].map(lambda x:clean_text(x))\n",
    "stop_words = set(stopwords.words('english'))\n",
    "df['statement_clean'] = df['statement_clean'].apply(remove_stopwords)\n",
    "df['statement_clean'] = df['statement_clean'].apply(make_string)\n",
    "df['statement_clean'].replace(to_replace = '[^\\w\\s]',value='',inplace = True,regex = True )  #Remove punctuation\n",
    "df['statement_clean'].replace(to_replace = '[\\d]',value='',inplace = True,regex = True )     #Remove digits\n",
    "df['statement_clean'] = df['statement_clean'].apply(lambda x:\" \".join(x.split()))            #Remove duplicate white spaces\n",
    "df['statement_clean'] = df['statement_clean'].apply(lambda x:\" \".join(word for word in x.split(' ') if len(word) > 3))   #Remove single letter words\n",
    "print(df['statement_clean'])\n"
   ]
  },
  {
   "cell_type": "code",
   "execution_count": 7,
   "metadata": {},
   "outputs": [],
   "source": [
    "encoder = preprocessing.LabelEncoder()\n",
    "train_x, valid_x, train_y, valid_y = model_selection.train_test_split(df['statement_clean'],df['label'])\n",
    "\n",
    "train_y = encoder.fit_transform(train_y)\n",
    "valid_y = encoder.fit_transform(valid_y)\n",
    "tfidf_vect = TfidfVectorizer()\n",
    "#tfidf_vect.fit(df['statement_clean'])\n",
    "xtrain_tfidf = tfidf_vect.fit_transform(train_x)\n",
    "xvalid_tfidf = tfidf_vect.transform(valid_x)\n",
    "\n",
    "\n"
   ]
  },
  {
   "cell_type": "code",
   "execution_count": 8,
   "metadata": {},
   "outputs": [
    {
     "data": {
      "text/plain": [
       "(312606, 41733)"
      ]
     },
     "execution_count": 8,
     "metadata": {},
     "output_type": "execute_result"
    }
   ],
   "source": [
    "xtrain_tfidf.shape"
   ]
  },
  {
   "cell_type": "code",
   "execution_count": 9,
   "metadata": {},
   "outputs": [
    {
     "name": "stdout",
     "output_type": "stream",
     "text": [
      "[('gentl', 'romant', 'nostalg', 'naughti', 'tender', 'horni', 'love', 'sympathet', 'irrit', 'strang', 'overwhelm', 'stun', 'weird', 'surpris', 'funni', 'daze', 'impress', 'shock', 'curiou', 'amaz'), (3776.321261882601, 3810.348201469146, 4057.1665365291283, 4065.803986897712, 4328.660790181107, 4357.406134428423, 4363.912910152591, 4702.620415318472, 5102.612442662721, 5227.1190090762675, 5231.463541344223, 5568.800650644049, 5917.613282933125, 7610.407855695803, 8130.984155301751, 8130.993379894885, 9475.275881784073, 9808.399074905763, 10225.07575615623, 10503.310823266986)]\n"
     ]
    },
    {
     "data": {
      "image/png": "[encoded data removed]",
      "text/plain": [
       "<Figure size 1152x576 with 1 Axes>"
      ]
     },
     "metadata": {
      "needs_background": "light"
     },
     "output_type": "display_data"
    }
   ],
   "source": [
    "chi2score=chi2(xtrain_tfidf,train_y)[0]\n",
    "plt.figure(figsize=(16,8))\n",
    "scores = list(zip(tfidf_vect.get_feature_names(), chi2score))\n",
    "chi2_ = sorted(scores, key=lambda x:x[1])\n",
    "topchi2 = list(zip(*chi2_[-20:]))\n",
    "print(topchi2)\n",
    "x = range(len(topchi2[1]))\n",
    "labels = topchi2[0]\n",
    "plt.barh(x,topchi2[1], align='center', alpha=0.5)\n",
    "plt.plot(topchi2[1], x, '-o', markersize=5, alpha=0.8)\n",
    "plt.yticks(x, labels)\n",
    "plt.xlabel('$\\chi^2$')\n",
    "plt.show()"
   ]
  },
  {
   "cell_type": "code",
   "execution_count": 10,
   "metadata": {},
   "outputs": [],
   "source": [
    "chi2_features = SelectKBest(chi2, k = 10000) \n",
    "xtrain_tfidf = chi2_features.fit_transform(xtrain_tfidf, train_y) \n",
    "xvalid_tfidf = chi2_features.transform(xvalid_tfidf)"
   ]
  },
  {
   "cell_type": "code",
   "execution_count": null,
   "metadata": {},
   "outputs": [],
   "source": [
    "params = {\n",
    "    'multi_class': 'ovr',\n",
    "    'solver': 'lbfgs'\n",
    "}\n",
    "\n",
    "lgbm_params = {\n",
    "    'n_estimators': 250,\n",
    "    'max_depth': 10,\n",
    "    'learning_rate': 0.03,\n",
    "    'objective': 'multiclass',\n",
    "    'n_jobs': cores,\n",
    "    'boosting_type':'dart',\n",
    "    'num_leaves':1024,\n",
    "    \n",
    "    \n",
    "}\n",
    "\n",
    "clf = LGBMClassifier(**lgbm_params)\n",
    "#clf = LogisticRegression(**params)#clf = MultinomialNB().fit(xtrain_tfidf.toarray(),train_y)\n",
    "#clf = XGBClassifier()\n",
    "clf.fit(xtrain_tfidf, train_y)\n",
    "print(clf)\n",
    "\n",
    "#clf = MultinomialNB().fit(xtrain_tfidf.toarray(),train_y)"
   ]
  },
  {
   "cell_type": "code",
   "execution_count": null,
   "metadata": {},
   "outputs": [],
   "source": [
    "predictions = clf.predict(xvalid_tfidf)\n",
    "from sklearn.metrics import confusion_matrix \n",
    "from sklearn.metrics import accuracy_score \n",
    "from sklearn.metrics import classification_report \n",
    "results = confusion_matrix(valid_y, predictions)\n",
    "print ('Accuracy Score :',accuracy_score(valid_y, predictions))\n",
    "print ('Report : ')\n",
    "print (classification_report(valid_y,predictions))"
   ]
  },
  {
   "cell_type": "code",
   "execution_count": null,
   "metadata": {},
   "outputs": [],
   "source": []
  },
  {
   "cell_type": "code",
   "execution_count": null,
   "metadata": {},
   "outputs": [],
   "source": []
  }
 ],
 "metadata": {
  "kernelspec": {
   "display_name": "acmenv",
   "language": "python",
   "name": "acmenv"
  },
  "language_info": {
   "codemirror_mode": {
    "name": "ipython",
    "version": 3
   },
   "file_extension": ".py",
   "mimetype": "text/x-python",
   "name": "python",
   "nbconvert_exporter": "python",
   "pygments_lexer": "ipython3",
   "version": "3.6.8"
  }
 },
 "nbformat": 4,
 "nbformat_minor": 2
}
