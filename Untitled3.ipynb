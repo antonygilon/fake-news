{
 "cells": [
  {
   "cell_type": "code",
   "execution_count": 10,
   "metadata": {},
   "outputs": [],
   "source": [
    "from selenium import webdriver\n",
    "from bs4 import BeautifulSoup\n",
    "import pandas as pd\n",
    "driver = webdriver.Chrome(\"/usr/local/bin/chromedriver\")\n",
    "products=[] #List to store name of the product\n",
    "prices=[] #List to store price of the product\n",
    "ratings=[] #List to store rating of the product\n",
    "driver.get(\"https://www.theonion.com/\")\n",
    "content = driver.page_source\n",
    "soup = BeautifulSoup(content)\n",
    "for a in soup.findAll('a',href=True, attrs={'class':'js_post_item cw4lnv-0 gzvDHx cw4lnv-11 gmDuZG cw4lnv-4 kExJtn cw4lnv-5 jbXSRk'}):\n",
    " name=a.find('div', attrs={'class':'cw4lnv-6 leHuzq sc-759qgu-0 cZSXNj'})\n",
    " price=a.find('div', attrs={'class':'cw4lnv-6 leHuzq sc-759qgu-0 cZSXNj'})\n",
    " products.append(name.text)\n",
    " prices.append(price.text)\n",
    "df = pd.DataFrame({'Product Name':products,'Price':prices}) \n",
    "df.to_csv('products.csv', index=False, encoding='utf-8')"
   ]
  },
  {
   "cell_type": "code",
   "execution_count": null,
   "metadata": {},
   "outputs": [],
   "source": []
  },
  {
   "cell_type": "code",
   "execution_count": null,
   "metadata": {},
   "outputs": [],
   "source": []
  }
 ],
 "metadata": {
  "kernelspec": {
   "display_name": "acmenv",
   "language": "python",
   "name": "acmenv"
  },
  "language_info": {
   "codemirror_mode": {
    "name": "ipython",
    "version": 3
   },
   "file_extension": ".py",
   "mimetype": "text/x-python",
   "name": "python",
   "nbconvert_exporter": "python",
   "pygments_lexer": "ipython3",
   "version": "3.6.8"
  }
 },
 "nbformat": 4,
 "nbformat_minor": 2
}
